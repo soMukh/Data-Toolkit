{
 "cells": [
  {
   "cell_type": "markdown",
   "id": "9bc59138",
   "metadata": {},
   "source": [
    "Data Toolkit"
   ]
  },
  {
   "cell_type": "code",
   "execution_count": 88,
   "id": "23dda900",
   "metadata": {},
   "outputs": [
    {
     "data": {
      "text/plain": [
       "'1. What is NumPy, and why is it widely used in Python?\\n\\n-> NumPy(Numerical Python) is a powerful library for numerical computing in Python. \\nIt provides efficient multi-dimensional arrays(ndarrays) and a wide range of mathematical functions \\nto perform operations on large datasets.\\n\\nReason why it\\'s widely used:\\na. Speed & Efficiency: Faster than Python lists due to optimized C/Fortran implementation.\\nb. Vectorized Operations: Perform element-wise operations without explicit loops, speeding up calculations.\\nc. Mathematical Functions: Supports complex math, linear algebra, and statistics.\\nd. Integration: Works seamlessly with other libraries like Pandas, SciPy, and TensorFlow.\\ne. Memory Efficiency: Provides compact data types for large datasets.\\n\\nExample:\\n\\nimport numpy as np\\n#Create a 2D NumPy array\\narr=np.array([[1, 2, 3], [4, 5, 6]])\\n#Multiply each element by 2 (vectorized operation)\\nresult=arr*2\\nprint(result)\\n#Output:\\n# [[2 4 6]\\n#  [8 10 12]]\\n\\n2. How does broadcasting work in NumPy?\\n\\n-> Broadcasting in NumPy allows operations on arrays of different shapes by automatically expanding \\nthe smaller array to match the larger array.\\n\\nRules:\\na. If arrays have different dimensions, the smaller one is padded with 1s on the left.\\nb. Arrays are compatible if, for each dimension, the size is either the same or one is 1.\\nc. The smaller array is stretched along dimensions with size 1.\\n\\nExample:\\n\\nimport numpy as np\\nA=np.array([[1], [2], [3]])  #Shape (3, 1)\\nB=np.array([10, 20, 30, 40])  #Shape (1, 4)\\nresult=A+B  #Broadcasting happens here\\nprint(result)\\n#Output:\\n# [[11 21 31 41]\\n#  [12 22 32 42]\\n#  [13 23 33 43]]\\n\\n3. What is a Pandas DataFrame?\\n\\n-> A Pandas DataFrame is a 2-dimensional, size-mutable, and potentially heterogeneous tabular data structure \\nwith labeled axes(rows and columns). It is one of the most commonly used structures in \\ndata analysis and data manipulation in Python.\\n\\nKey Features:\\na. Rows and Columns: Like a table, with index labels for rows and column names for columns.\\nb. Heterogeneous Data: Can store different data types in each column(e.g., integers, floats, strings).\\nc. Efficient Operations: Supports fast and easy operations like filtering, aggregation, merging, reshaping, and more.\\nd. Missing Data Handling: Offers built-in functions to handle missing data(NaN).\\n\\nExample:\\n\\nimport pandas as pd\\n#Create a DataFrame\\ndata={\\n    \\'Name\\': [\\'Alice\\', \\'Bob\\', \\'Charlie\\'],\\n    \\'Age\\': [25, 30, 35],\\n    \\'Salary\\': [50000, 60000, 70000]\\n}\\ndf=pd.DataFrame(data)\\n#Display the DataFrame\\nprint(df)\\n#Output:\\n#      Name  Age  Salary\\n#0    Alice   25   50000\\n#1      Bob   30   60000\\n#2  Charlie   35   70000\\n\\n4. Explain the use of the groupby() method in Pandas.\\n\\n-> The groupby() method in Pandas is used to split data into groups, apply a function \\n(e.g., sum, mean) to each group, and combine the results.\\n\\nSteps:\\na. Split: Group data based on a column.\\nb. Apply: Apply a function to each group.\\nc. Combine: Combine the results into a DataFrame or Series.\\n\\nExample:\\n\\nimport pandas as pd\\ndf=pd.DataFrame({\\'Department\\': [\\'HR\\', \\'Sales\\', \\'HR\\', \\'Sales\\'], \\'Salary\\': [50000, 60000, 55000, 65000]})\\nresult=df.groupby(\\'Department\\')[\\'Salary\\'].mean()\\nprint(result)\\n#Output:\\n#Department\\n#HR       52500.0\\n#Sales    62500.0\\n#Name: Salary, dtype: float64\\n\\nUse case: Used for aggregation, transformation, and filtering of grouped data.\\n\\n5. Why is Seaborn preferred for statistical visualizations?\\n\\n-> Seaborn is preferred for statistical visualizations because it:\\n\\na. Simplifies complex plots with a high-level interface.\\nb. Integrates statistical functions(e.g., regression lines, confidence intervals).\\nc. Provides aesthetic and ready-to-use plots like box plots and pair plots.\\nd. Handles Pandas DataFrames directly, simplifying data handling.\\ne. Offers easy customization and integration with Matplotlib for fine-tuning.\\n\\nExample:\\n\\nimport seaborn as sns\\nsns.boxplot(x=\\'day\\', y=\\'total_bill\\', data=sns.load_dataset(\\'tips\\'))\\n#Output: A box plot showing the distribution of total bills across different days.\\n\\n6. What are the differences between NumPy arrays and Python lists?\\n\\n-> a. Efficiency: NumPy arrays are more efficient in terms of memory and performance, \\nespecially for large datasets, compared to Python lists.\\n\\nb. Homogeneity: NumPy arrays are homogeneous(all elements must be of the same type), \\nwhile Python lists are heterogeneous(can contain different data types).\\n\\nc. Performance: NumPy arrays support vectorized operations, enabling fast element-wise operations without explicit loops, \\nmaking them faster than Python lists for numerical calculations.\\n\\nd. Functionality: NumPy arrays offer a wide range of mathematical functions and support for multi-dimensional arrays, \\nwhile Python lists do not natively support these features.\\n\\ne. Use Case: Python lists are more flexible for general-purpose use, \\nwhile NumPy arrays are preferred for data science, machine learning, \\nand scientific computing due to their speed and advanced operations.\\n\\n7. What is a heatmap, and when should it be used?\\n\\n-> A heatmap is a data visualization technique that represents matrix-style data using color gradients \\nto indicate values. In a heatmap, individual values are displayed in a grid where the color intensity \\nreflects the magnitude of the values, with darker or lighter colors representing higher or lower values, respectively.\\n\\nWhen to use a Heatmap:\\na. Correlation Matrices: To visualize the relationship between different variables, \\nsuch as in a correlation matrix where the colors represent correlation coefficients.\\nb. Patterns in Data: To identify patterns, trends, or outliers in large datasets, \\nespecially when dealing with categorical and continuous data.\\nc. Geospatial Data: For displaying geographic data where color intensity shows density or concentration, \\nsuch as in a geographic heatmap.\\nd. Cluster Analysis: In clustering applications, heatmaps help visualize groupings or clusters in data, \\nsuch as in hierarchical clustering or K-means.\\n\\nExample Use Cases:\\na. Visualizing correlations between multiple variables in a dataset.\\nb. Analyzing gene expression data or sales data across different regions or time periods.\\n\\nExample:\\n\\nimport seaborn as sns\\nimport matplotlib.pyplot as plt\\n#Sample correlation matrix\\ndata=sns.load_dataset(\\'flights\\')\\n#Pivot the data to create a matrix\\npivot_data=data.pivot(\\'month\\', \\'year\\', \\'passengers\\')\\n#Create a heatmap\\nsns.heatmap(pivot_data, annot=True, cmap=\\'coolwarm\\')\\nplt.show()\\n\\n8. What does the term “vectorized operation” mean in NumPy?\\n\\n-> In NumPy, a vectorized operation refers to performing operations on entire arrays without using explicit loops. \\nInstead of iterating through elements one by one, NumPy applies the operation to all elements at once \\nusing optimized C code under the hood.\\n\\nExample:\\n\\nimport numpy as np\\na=np.array([1, 2, 3])\\nb=np.array([4, 5, 6])\\n#Vectorized addition\\nc=a+b  \\nprint(c)  #Output: [5 7 9]\\n\\n9. How does Matplotlib differ from Plotly?\\n\\n-> Matplotlib and Plotly are both Python libraries for data visualization, but they differ in several key aspects:\\n\\n1. Interactivity:\\n   a. Matplotlib creates static plots by default.\\n   b. Plotly creates interactive plots with features like zooming, tooltips, and dynamic updates.\\n\\n2. Ease of Use:\\n   a. Matplotlib offers more control but can be verbose and require more code for complex plots.\\n   b. Plotly has a higher-level API that makes it easier to create beautiful, interactive visuals quickly.\\n\\n3. Customization:\\n   a. Matplotlib allows deep customization of every plot element.\\n   b. Plotly supports customization too but is geared toward building modern web-based visuals.\\n\\n4. Output:\\n   a. Matplotlib is ideal for static reports, academic publications, and basic visualizations.\\n   b. Plotly is best for interactive dashboards, web applications, and exploratory analysis.\\n\\n5. 3D Plots:\\n   a. Matplotlib supports basic 3D plots.\\n   b. Plotly excels at interactive 3D plots and animations.\\n\\n10. What is the significance of hierarchical indexing in Pandas?\\n\\n-> Hierarchical indexing(also called MultiIndexing) in Pandas allows us to use multiple index levels on rows or columns, \\nenabling us to work with higher-dimensional data in a 2D DataFrame.\\n\\nSignificance:\\na. Organizes Complex Data: It helps represent data with multiple dimensions (like country → city → population) \\nin a structured, readable format.\\nb. Group and Aggregate Easily: Makes it easy to perform group operations, reshaping (like .unstack() or .stack()), \\nand slicing through levels.\\nc. Improves Data Manipulation: Enables more powerful data selection, filtering, and subsetting.\\n\\nExample:\\n\\nimport pandas as pd\\ndata = pd.Series([100, 200, 300],index=[[\\'USA\\', \\'USA\\', \\'Canada\\'], [\\'NY\\', \\'CA\\', \\'Toronto\\']])\\nprint(data)\\n#Output:\\n#USA     NY         100\\n#        CA         200\\n#Canada  Toronto    300\\n#dtype: int64\\n#This creates a two-level index: country and city.\\n\\n11. What is the role of Seaborn’s pairplot() function?\\n\\n-> The pairplot() function in Seaborn is used to create a matrix of scatter plots to visually explore relationships \\nbetween multiple numerical variables in a dataset.\\n\\nKey Roles:\\na. Visualizes Pairwise Relationships: Plots scatter plots for every pair of numeric columns.\\nb. Diagonal Plots: Shows univariate distributions(e.g., histograms or KDE plots) on the diagonal.\\nc. Highlights Patterns and Correlations: Useful for spotting trends, clusters, or outliers.\\nd. Supports Hue: Allows coloring by category using the hue parameter.\\n\\nExample:\\n\\nimport seaborn as sns\\nimport matplotlib.pyplot as plt\\ndf=sns.load_dataset(\"iris\")\\nsns.pairplot(df, hue=\"species\")\\nplt.show()\\n\\n12. What is the purpose of the describe() function in Pandas?\\n\\n-> The describe() function in Pandas provides a quick summary of statistical measures \\nfor numerical(or all, if specified) columns in a DataFrame.\\n\\nPurpose:\\na. Gives key statistics like count, mean, standard deviation, min, 25%, 50%(median), 75%, and max.\\nb. Helps in understanding data distribution, spotting outliers, and identifying data quality issues.\\n\\nExample:\\n\\nimport pandas as pd\\ndf=pd.read_csv(\"Bank_churn.csv\")\\nprint(df.describe())\\n\\n13. Why is handling missing data important in Pandas?\\n\\n-> Handling missing data in Pandas is crucial because:\\na. Ensures Accuracy:Missing values can lead to incorrect or misleading results during analysis or modeling.\\nb. Prevents Errors:Many operations(like aggregation, plotting, or model training) may fail \\nor behave unexpectedly with NaNs.\\nc. Improves Model Quality:Machine learning algorithms require clean, complete data for best performance.\\nd. Enables Meaningful Insights:Properly handling missing data ensures your analysis reflects reality \\nand supports better decision-making.\\n\\nExample:\\n\\n#Handling Missing Data\\nimport pandas as pd\\nimport numpy as np\\n#Create sample DataFrame with missing values\\ndata={\\n    \\'Name\\':[\\'Alice\\', \\'Bob\\', \\'Charlie\\', \\'David\\'],\\n    \\'Age\\':[25, np.nan, 30, 22],\\n    \\'Salary\\':[50000, 60000, np.nan, 45000]\\n}\\ndf=pd.DataFrame(data)\\nprint(\"Original DataFrame:\")\\nprint(df)\\n\\n#Detecting Missing Data\\nprint(\"\\nMissing values:\")\\nprint(df.isnull())\\n\\n#Handling Missing Data\\n#Option 1:Fill missing values\\ndf_filled=df.fillna({\\'Age\\': df[\\'Age\\'].mean(), \\'Salary\\': df[\\'Salary\\'].median()})\\nprint(\"\\nFilled Missing Values:\")\\nprint(df_filled)\\n\\n#Option 2:Drop rows with missing data\\ndf_dropped=df.dropna()\\nprint(\"\\nDropped Rows with Missing Values:\")\\nprint(df_dropped)\\n\\n14. What are the benefits of using Plotly for data visualization?\\n\\n-> Plotly offers several powerful benefits for data visualization:\\n\\na. Interactive Charts:\\n   Allows zooming, hovering, panning, and tooltips—ideal for exploratory data analysis and dashboards.\\n\\nb. Easy to Use:  \\n   High-level API with simple syntax for creating complex visuals like scatter plots, bar charts, and 3D plots.\\n\\nc. Beautiful Visuals:\\n   Automatically styled, visually appealing charts with responsive design for web use.\\n\\nd. Supports a Wide Range of Plots:  \\n   From basic(bar, line) to advanced(3D plots, maps, heatmaps, subplots, animations).\\n\\ne. Web-Friendly & Shareable:  \\n   Charts can be easily exported to HTML or integrated into web apps and notebooks.\\n\\nf. Compatible with Dash:  \\n   Seamlessly integrates with Dash, Plotly’s web application framework, to build full-fledged interactive dashboards.\\n\\n15. How does NumPy handle multidimensional arrays?\\n\\n-> NumPy handles multidimensional arrays using its powerful ndarray object, \\nwhich can represent arrays of any number of dimensions(1D, 2D, 3D, and beyond).\\n\\nKey Features of Multidimensional Arrays in NumPy:\\na. Shape and Dimensions: \\n1. Each array has a .shape attribute that shows its dimensions.\\n2. .ndim gives the number of dimensions(axes).\\n\\nb. Efficient Storage: Multidimensional arrays are stored in contiguous memory, enabling fast computations.\\n\\nc. Slicing and Indexing: Supports intuitive slicing for each axis:\\narr[1, 2] accesses the element at row 1, column 2 in a 2D array.\\n\\nd. Broadcasting Support\\nAllows arithmetic operations across arrays of different shapes and dimensions.\\n\\ne. Reshaping and Transposing\\nUse .reshape(), .transpose(), and .swapaxes() to modify the layout without copying data.\\n\\nExample:\\n\\nimport numpy as np\\narr=np.array([[1, 2, 3], [4, 5, 6]])\\nprint(arr.shape)   #(2, 3)\\nprint(arr.ndim)    #2\\nprint(arr[1, 2])   #Output: 6\\n\\n16. What is the role of Bokeh in data visualization?\\n\\n-> Bokeh is a Python library for creating interactive, web-ready visualizations.\\n\\nRole of Bokeh in Data Visualization:\\na. Interactive Plots:  \\n   Enables zooming, panning, tooltips, sliders, and other widgets—ideal for dynamic data exploration.\\n\\nb. Web Integration:  \\n   Outputs charts as HTML, making it easy to embed visualizations into websites or dashboards.\\n\\nc. High Performance:  \\n   Handles large datasets efficiently, especially useful for real-time data visualization.\\n\\nd. Customizable Layouts:  \\n   Supports building complex dashboards with multiple plots and UI controls using Bokeh’s layout engine.\\n\\ne. Server-Side Apps:  \\n   Can create live, data-driven web apps with Bokeh Server, without needing JavaScript.\\n\\n17. Explain the difference between apply() and map() in Pandas.\\n\\n-> The main difference between apply() and map() in Pandas lies in where and how they are used:\\n\\nmap():\\na. Used only on Series(usually a single column).\\nb. Applies a function element-wise to each value in the Series.\\nc. Ideal for value transformation or mapping.\\n\\nExample:\\n\\nimport pandas as pd\\ndf=pd.DataFrame({\\'A\\': [1, 2, 3]})\\ndf[\\'A\\']=df[\\'A\\'].map(lambda x: x * 2)\\n\\napply():\\na. Can be used on both Series and DataFrames.\\nb. On a Series: works like map()(element-wise).\\nc. On a DataFrame: applies a function along rows(axis=1) or columns(axis=0).\\nd. Useful for more complex row/column-wise operations.\\n\\nExample:\\n\\ndf=pd.DataFrame({\\'A\\': [1, 2], \\'B\\': [3, 4]})\\ndf[\\'Sum\\']=df.apply(lambda row: row[\\'A\\']+row[\\'B\\'], axis=1)\\n\\n18. What are some advanced features of NumPy?\\n\\n-> Here are some advanced features of NumPy that make it a powerful tool for numerical computing:\\n\\na. Broadcasting: Allows arithmetic operations between arrays of different shapes.\\n\\nimport numpy as np\\na=np.array([1, 2, 3])\\nb=2\\nprint(a+b)  #[3 4 5]\\n\\nb. Vectorized Operations: Perform operations on entire arrays without explicit loops, leading to faster computations.\\n\\nc. Multidimensional Array Manipulation: Methods like reshape(), transpose(), swapaxes(), and expand_dims() \\nallow flexible reshaping and axis operations.\\n\\nd. Masked Arrays: Handle missing or invalid data by masking certain elements.\\n\\nimport numpy.ma as ma\\na=ma.array([1, 2, 3], mask=[0, 1, 0])\\n\\ne. Advanced Indexing and Slicing: Supports boolean indexing, fancy indexing, and condition-based filtering.\\n\\na = np.array([1, 2, 3, 4])\\nprint(a[a > 2])  # [3 4]\\n\\nf. Linear Algebra Functions: Provides dot, inv, eig, linalg.solve(), etc., for matrix operations and solving equations.\\n\\ng. Random Sampling and Distributions: Generate random numbers, perform sampling, and simulate statistical distributions \\nvia numpy.random.\\n\\nh. Memory Efficiency: Uses less memory than Python lists and supports shared-memory views (e.g., slices don’t copy data).\\n\\ni. FFT and Signal Processing: numpy.fft for fast Fourier transforms and spectral analysis.\\n\\nj. Integration with Other Libraries: Works seamlessly with SciPy, Pandas, Scikit-learn, TensorFlow, etc., \\nas the underlying array engine.\\n\\n19. How does Pandas simplify time series analysis?\\n\\n-> Pandas simplifies time series analysis by providing powerful, built-in features tailored for working with dates and times:\\n\\na. Datetime Indexing: Use DatetimeIndex to set date/time as the index for easy slicing, filtering, and resampling.\\n   \\n   df.index = pd.to_datetime(df[\\'Date\\'])\\n   \\nb. Date Parsing: Automatically converts strings to datetime objects using pd.to_datetime().\\n\\nc. Resampling: Easily aggregate data to different time frequencies (daily, monthly, yearly, etc.).\\n\\n   df.resample(\\'M\\').mean()\\n\\nd. Time Shifting: Use .shift() and .tshift() to move data forward or backward in time.\\n\\ne. Rolling Windows: Compute moving averages and other statistics with .rolling().\\n   \\n   df[\\'rolling_avg\\'] = df[\\'value\\'].rolling(window=7).mean()\\n   \\nf. Period and Timedelta Support: Handle periods (e.g., months or quarters) and time differences (Timedelta) easily.\\n\\n20. What is the role of a pivot table in Pandas?\\n\\n-> A pivot table in Pandas is used to summarize and aggregate data. \\nIt allows you to reshape long data into a wide format, group by categories, \\nand perform aggregate functions(e.g., sum, mean) on values. It’s useful for multi-dimensional analysis \\nand better understanding relationships between variables.\\n\\nExample:\\n\\npivot_df = pd.pivot_table(df, values=\\'Value\\', index=\\'Category\\', columns=\\'Subcategory\\', aggfunc=\\'sum\\')\\n\\n21. Why is NumPy’s array slicing faster than Python’s list slicing?\\n\\n-> NumPy’s array slicing is faster than Python’s list slicing due to the following reasons:\\n\\na. Contiguous Memory Allocation:  \\n   1. NumPy arrays are stored in contiguous memory(all elements are stored in a single block of memory), \\n   which allows for fast access and manipulation.\\n   2. Python lists, on the other hand, store elements in non-contiguous memory locations, leading to slower access.\\n\\nb. Optimized C Implementation:\\n   NumPy is written in C, which is much faster than Python’s native list operations. \\n   The underlying low-level C code in NumPy is highly optimized for performance.\\n   \\nc. No Data Copying:  \\n   1. When slicing a NumPy array, the resulting slice is typically a view on the original data,\\n   meaning no data is copied, and only the reference is returned.\\n   2. Python lists create a new sublist when slicing, \\n   which involves copying the data, leading to higher time and space complexity.\\n\\nd. Efficient Memory Handling:  \\n   NumPy has efficient memory management techniques, such as striding, \\n   which allow for faster slicing and access compared to Python lists that require more overhead.\\n\\n\\n22. What are some common use cases for Seaborn?\\n\\n-> Seaborn is a powerful data visualization library built on top of Matplotlib, \\ndesigned to make it easier to create aesthetically pleasing and informative visualizations. \\nHere are some common use cases:\\n\\na. Statistical Plots:\\n   Seaborn is great for visualizing statistical relationships between variables.\\n   Examples: scatter plots, line plots, and regression plots.\\n\\n   Example:\\n   \\n   sns.regplot(x=\"Age\", y=\"Income\", data=df)\\n   \\n\\nb. Distribution Plots:\\n   Seaborn provides tools to visualize the distribution of a variable.\\n   Examples: histograms, KDE(Kernel Density Estimate) plots, and box plots.\\n\\n   Example:\\n   \\n   sns.histplot(df[\\'Age\\'], kde=True)\\n   \\nc. Categorical Plots:\\n   It is useful for visualizing relationships between categorical variables and numerical values.\\n   Examples: bar plots, box plots, violin plots, count plots.\\n\\n   Example:\\n   \\n   sns.boxplot(x=\"Category\", y=\"Value\", data=df)\\n\\nd. Heatmaps:\\n   Seaborn can visualize correlation matrices and other 2D data.\\n   Example: correlation heatmaps for analyzing relationships between features.\\n\\n   Example:\\n   \\n   sns.heatmap(correlation_matrix, annot=True, cmap=\"coolwarm\")\\n\\ne. Pairwise Relationships:\\n   Seaborn\\'s pairplot helps in exploring relationships between all pairs of variables in a dataset.\\n   It’s great for multivariate analysis\\n\\n   Example:\\n   \\n   sns.pairplot(df)\\n\\nf. Time Series Visualizations:\\n   Seaborn is also useful for visualizing time-series data, showing trends over time with line plots.\\n\\n   Example:\\n   \\n   sns.lineplot(x=\"Date\", y=\"Sales\", data=df)\\n'"
      ]
     },
     "execution_count": 88,
     "metadata": {},
     "output_type": "execute_result"
    }
   ],
   "source": [
    "\"\"\"1. What is NumPy, and why is it widely used in Python?\n",
    "\n",
    "-> NumPy(Numerical Python) is a powerful library for numerical computing in Python. \n",
    "It provides efficient multi-dimensional arrays(ndarrays) and a wide range of mathematical functions \n",
    "to perform operations on large datasets.\n",
    "\n",
    "Reason why it's widely used:\n",
    "a. Speed & Efficiency: Faster than Python lists due to optimized C/Fortran implementation.\n",
    "b. Vectorized Operations: Perform element-wise operations without explicit loops, speeding up calculations.\n",
    "c. Mathematical Functions: Supports complex math, linear algebra, and statistics.\n",
    "d. Integration: Works seamlessly with other libraries like Pandas, SciPy, and TensorFlow.\n",
    "e. Memory Efficiency: Provides compact data types for large datasets.\n",
    "\n",
    "Example:\n",
    "\n",
    "import numpy as np\n",
    "#Create a 2D NumPy array\n",
    "arr=np.array([[1, 2, 3], [4, 5, 6]])\n",
    "#Multiply each element by 2 (vectorized operation)\n",
    "result=arr*2\n",
    "print(result)\n",
    "#Output:\n",
    "# [[2 4 6]\n",
    "#  [8 10 12]]\n",
    "\n",
    "2. How does broadcasting work in NumPy?\n",
    "\n",
    "-> Broadcasting in NumPy allows operations on arrays of different shapes by automatically expanding \n",
    "the smaller array to match the larger array.\n",
    "\n",
    "Rules:\n",
    "a. If arrays have different dimensions, the smaller one is padded with 1s on the left.\n",
    "b. Arrays are compatible if, for each dimension, the size is either the same or one is 1.\n",
    "c. The smaller array is stretched along dimensions with size 1.\n",
    "\n",
    "Example:\n",
    "\n",
    "import numpy as np\n",
    "A=np.array([[1], [2], [3]])  #Shape (3, 1)\n",
    "B=np.array([10, 20, 30, 40])  #Shape (1, 4)\n",
    "result=A+B  #Broadcasting happens here\n",
    "print(result)\n",
    "#Output:\n",
    "# [[11 21 31 41]\n",
    "#  [12 22 32 42]\n",
    "#  [13 23 33 43]]\n",
    "\n",
    "3. What is a Pandas DataFrame?\n",
    "\n",
    "-> A Pandas DataFrame is a 2-dimensional, size-mutable, and potentially heterogeneous tabular data structure \n",
    "with labeled axes(rows and columns). It is one of the most commonly used structures in \n",
    "data analysis and data manipulation in Python.\n",
    "\n",
    "Key Features:\n",
    "a. Rows and Columns: Like a table, with index labels for rows and column names for columns.\n",
    "b. Heterogeneous Data: Can store different data types in each column(e.g., integers, floats, strings).\n",
    "c. Efficient Operations: Supports fast and easy operations like filtering, aggregation, merging, reshaping, and more.\n",
    "d. Missing Data Handling: Offers built-in functions to handle missing data(NaN).\n",
    "\n",
    "Example:\n",
    "\n",
    "import pandas as pd\n",
    "#Create a DataFrame\n",
    "data={\n",
    "    'Name': ['Alice', 'Bob', 'Charlie'],\n",
    "    'Age': [25, 30, 35],\n",
    "    'Salary': [50000, 60000, 70000]\n",
    "}\n",
    "df=pd.DataFrame(data)\n",
    "#Display the DataFrame\n",
    "print(df)\n",
    "#Output:\n",
    "#      Name  Age  Salary\n",
    "#0    Alice   25   50000\n",
    "#1      Bob   30   60000\n",
    "#2  Charlie   35   70000\n",
    "\n",
    "4. Explain the use of the groupby() method in Pandas.\n",
    "\n",
    "-> The groupby() method in Pandas is used to split data into groups, apply a function \n",
    "(e.g., sum, mean) to each group, and combine the results.\n",
    "\n",
    "Steps:\n",
    "a. Split: Group data based on a column.\n",
    "b. Apply: Apply a function to each group.\n",
    "c. Combine: Combine the results into a DataFrame or Series.\n",
    "\n",
    "Example:\n",
    "\n",
    "import pandas as pd\n",
    "df=pd.DataFrame({'Department': ['HR', 'Sales', 'HR', 'Sales'], 'Salary': [50000, 60000, 55000, 65000]})\n",
    "result=df.groupby('Department')['Salary'].mean()\n",
    "print(result)\n",
    "#Output:\n",
    "#Department\n",
    "#HR       52500.0\n",
    "#Sales    62500.0\n",
    "#Name: Salary, dtype: float64\n",
    "\n",
    "Use case: Used for aggregation, transformation, and filtering of grouped data.\n",
    "\n",
    "5. Why is Seaborn preferred for statistical visualizations?\n",
    "\n",
    "-> Seaborn is preferred for statistical visualizations because it:\n",
    "\n",
    "a. Simplifies complex plots with a high-level interface.\n",
    "b. Integrates statistical functions(e.g., regression lines, confidence intervals).\n",
    "c. Provides aesthetic and ready-to-use plots like box plots and pair plots.\n",
    "d. Handles Pandas DataFrames directly, simplifying data handling.\n",
    "e. Offers easy customization and integration with Matplotlib for fine-tuning.\n",
    "\n",
    "Example:\n",
    "\n",
    "import seaborn as sns\n",
    "sns.boxplot(x='day', y='total_bill', data=sns.load_dataset('tips'))\n",
    "#Output: A box plot showing the distribution of total bills across different days.\n",
    "\n",
    "6. What are the differences between NumPy arrays and Python lists?\n",
    "\n",
    "-> a. Efficiency: NumPy arrays are more efficient in terms of memory and performance, \n",
    "especially for large datasets, compared to Python lists.\n",
    "\n",
    "b. Homogeneity: NumPy arrays are homogeneous(all elements must be of the same type), \n",
    "while Python lists are heterogeneous(can contain different data types).\n",
    "\n",
    "c. Performance: NumPy arrays support vectorized operations, enabling fast element-wise operations without explicit loops, \n",
    "making them faster than Python lists for numerical calculations.\n",
    "\n",
    "d. Functionality: NumPy arrays offer a wide range of mathematical functions and support for multi-dimensional arrays, \n",
    "while Python lists do not natively support these features.\n",
    "\n",
    "e. Use Case: Python lists are more flexible for general-purpose use, \n",
    "while NumPy arrays are preferred for data science, machine learning, \n",
    "and scientific computing due to their speed and advanced operations.\n",
    "\n",
    "7. What is a heatmap, and when should it be used?\n",
    "\n",
    "-> A heatmap is a data visualization technique that represents matrix-style data using color gradients \n",
    "to indicate values. In a heatmap, individual values are displayed in a grid where the color intensity \n",
    "reflects the magnitude of the values, with darker or lighter colors representing higher or lower values, respectively.\n",
    "\n",
    "When to use a Heatmap:\n",
    "a. Correlation Matrices: To visualize the relationship between different variables, \n",
    "such as in a correlation matrix where the colors represent correlation coefficients.\n",
    "b. Patterns in Data: To identify patterns, trends, or outliers in large datasets, \n",
    "especially when dealing with categorical and continuous data.\n",
    "c. Geospatial Data: For displaying geographic data where color intensity shows density or concentration, \n",
    "such as in a geographic heatmap.\n",
    "d. Cluster Analysis: In clustering applications, heatmaps help visualize groupings or clusters in data, \n",
    "such as in hierarchical clustering or K-means.\n",
    "\n",
    "Example Use Cases:\n",
    "a. Visualizing correlations between multiple variables in a dataset.\n",
    "b. Analyzing gene expression data or sales data across different regions or time periods.\n",
    "\n",
    "Example:\n",
    "\n",
    "import seaborn as sns\n",
    "import matplotlib.pyplot as plt\n",
    "#Sample correlation matrix\n",
    "data=sns.load_dataset('flights')\n",
    "#Pivot the data to create a matrix\n",
    "pivot_data=data.pivot('month', 'year', 'passengers')\n",
    "#Create a heatmap\n",
    "sns.heatmap(pivot_data, annot=True, cmap='coolwarm')\n",
    "plt.show()\n",
    "\n",
    "8. What does the term “vectorized operation” mean in NumPy?\n",
    "\n",
    "-> In NumPy, a vectorized operation refers to performing operations on entire arrays without using explicit loops. \n",
    "Instead of iterating through elements one by one, NumPy applies the operation to all elements at once \n",
    "using optimized C code under the hood.\n",
    "\n",
    "Example:\n",
    "\n",
    "import numpy as np\n",
    "a=np.array([1, 2, 3])\n",
    "b=np.array([4, 5, 6])\n",
    "#Vectorized addition\n",
    "c=a+b  \n",
    "print(c)  #Output: [5 7 9]\n",
    "\n",
    "9. How does Matplotlib differ from Plotly?\n",
    "\n",
    "-> Matplotlib and Plotly are both Python libraries for data visualization, but they differ in several key aspects:\n",
    "\n",
    "1. Interactivity:\n",
    "   a. Matplotlib creates static plots by default.\n",
    "   b. Plotly creates interactive plots with features like zooming, tooltips, and dynamic updates.\n",
    "\n",
    "2. Ease of Use:\n",
    "   a. Matplotlib offers more control but can be verbose and require more code for complex plots.\n",
    "   b. Plotly has a higher-level API that makes it easier to create beautiful, interactive visuals quickly.\n",
    "\n",
    "3. Customization:\n",
    "   a. Matplotlib allows deep customization of every plot element.\n",
    "   b. Plotly supports customization too but is geared toward building modern web-based visuals.\n",
    "\n",
    "4. Output:\n",
    "   a. Matplotlib is ideal for static reports, academic publications, and basic visualizations.\n",
    "   b. Plotly is best for interactive dashboards, web applications, and exploratory analysis.\n",
    "\n",
    "5. 3D Plots:\n",
    "   a. Matplotlib supports basic 3D plots.\n",
    "   b. Plotly excels at interactive 3D plots and animations.\n",
    "\n",
    "10. What is the significance of hierarchical indexing in Pandas?\n",
    "\n",
    "-> Hierarchical indexing(also called MultiIndexing) in Pandas allows us to use multiple index levels on rows or columns, \n",
    "enabling us to work with higher-dimensional data in a 2D DataFrame.\n",
    "\n",
    "Significance:\n",
    "a. Organizes Complex Data: It helps represent data with multiple dimensions (like country → city → population) \n",
    "in a structured, readable format.\n",
    "b. Group and Aggregate Easily: Makes it easy to perform group operations, reshaping (like .unstack() or .stack()), \n",
    "and slicing through levels.\n",
    "c. Improves Data Manipulation: Enables more powerful data selection, filtering, and subsetting.\n",
    "\n",
    "Example:\n",
    "\n",
    "import pandas as pd\n",
    "data = pd.Series([100, 200, 300],index=[['USA', 'USA', 'Canada'], ['NY', 'CA', 'Toronto']])\n",
    "print(data)\n",
    "#Output:\n",
    "#USA     NY         100\n",
    "#        CA         200\n",
    "#Canada  Toronto    300\n",
    "#dtype: int64\n",
    "#This creates a two-level index: country and city.\n",
    "\n",
    "11. What is the role of Seaborn’s pairplot() function?\n",
    "\n",
    "-> The pairplot() function in Seaborn is used to create a matrix of scatter plots to visually explore relationships \n",
    "between multiple numerical variables in a dataset.\n",
    "\n",
    "Key Roles:\n",
    "a. Visualizes Pairwise Relationships: Plots scatter plots for every pair of numeric columns.\n",
    "b. Diagonal Plots: Shows univariate distributions(e.g., histograms or KDE plots) on the diagonal.\n",
    "c. Highlights Patterns and Correlations: Useful for spotting trends, clusters, or outliers.\n",
    "d. Supports Hue: Allows coloring by category using the hue parameter.\n",
    "\n",
    "Example:\n",
    "\n",
    "import seaborn as sns\n",
    "import matplotlib.pyplot as plt\n",
    "df=sns.load_dataset(\"iris\")\n",
    "sns.pairplot(df, hue=\"species\")\n",
    "plt.show()\n",
    "\n",
    "12. What is the purpose of the describe() function in Pandas?\n",
    "\n",
    "-> The describe() function in Pandas provides a quick summary of statistical measures \n",
    "for numerical(or all, if specified) columns in a DataFrame.\n",
    "\n",
    "Purpose:\n",
    "a. Gives key statistics like count, mean, standard deviation, min, 25%, 50%(median), 75%, and max.\n",
    "b. Helps in understanding data distribution, spotting outliers, and identifying data quality issues.\n",
    "\n",
    "Example:\n",
    "\n",
    "import pandas as pd\n",
    "df=pd.read_csv(\"Bank_churn.csv\")\n",
    "print(df.describe())\n",
    "\n",
    "13. Why is handling missing data important in Pandas?\n",
    "\n",
    "-> Handling missing data in Pandas is crucial because:\n",
    "a. Ensures Accuracy:Missing values can lead to incorrect or misleading results during analysis or modeling.\n",
    "b. Prevents Errors:Many operations(like aggregation, plotting, or model training) may fail \n",
    "or behave unexpectedly with NaNs.\n",
    "c. Improves Model Quality:Machine learning algorithms require clean, complete data for best performance.\n",
    "d. Enables Meaningful Insights:Properly handling missing data ensures your analysis reflects reality \n",
    "and supports better decision-making.\n",
    "\n",
    "Example:\n",
    "\n",
    "#Handling Missing Data\n",
    "import pandas as pd\n",
    "import numpy as np\n",
    "#Create sample DataFrame with missing values\n",
    "data={\n",
    "    'Name':['Alice', 'Bob', 'Charlie', 'David'],\n",
    "    'Age':[25, np.nan, 30, 22],\n",
    "    'Salary':[50000, 60000, np.nan, 45000]\n",
    "}\n",
    "df=pd.DataFrame(data)\n",
    "print(\"Original DataFrame:\")\n",
    "print(df)\n",
    "\n",
    "#Detecting Missing Data\n",
    "print(\"\\nMissing values:\")\n",
    "print(df.isnull())\n",
    "\n",
    "#Handling Missing Data\n",
    "#Option 1:Fill missing values\n",
    "df_filled=df.fillna({'Age': df['Age'].mean(), 'Salary': df['Salary'].median()})\n",
    "print(\"\\nFilled Missing Values:\")\n",
    "print(df_filled)\n",
    "\n",
    "#Option 2:Drop rows with missing data\n",
    "df_dropped=df.dropna()\n",
    "print(\"\\nDropped Rows with Missing Values:\")\n",
    "print(df_dropped)\n",
    "\n",
    "14. What are the benefits of using Plotly for data visualization?\n",
    "\n",
    "-> Plotly offers several powerful benefits for data visualization:\n",
    "\n",
    "a. Interactive Charts:\n",
    "   Allows zooming, hovering, panning, and tooltips—ideal for exploratory data analysis and dashboards.\n",
    "\n",
    "b. Easy to Use:  \n",
    "   High-level API with simple syntax for creating complex visuals like scatter plots, bar charts, and 3D plots.\n",
    "\n",
    "c. Beautiful Visuals:\n",
    "   Automatically styled, visually appealing charts with responsive design for web use.\n",
    "\n",
    "d. Supports a Wide Range of Plots:  \n",
    "   From basic(bar, line) to advanced(3D plots, maps, heatmaps, subplots, animations).\n",
    "\n",
    "e. Web-Friendly & Shareable:  \n",
    "   Charts can be easily exported to HTML or integrated into web apps and notebooks.\n",
    "\n",
    "f. Compatible with Dash:  \n",
    "   Seamlessly integrates with Dash, Plotly’s web application framework, to build full-fledged interactive dashboards.\n",
    "\n",
    "15. How does NumPy handle multidimensional arrays?\n",
    "\n",
    "-> NumPy handles multidimensional arrays using its powerful ndarray object, \n",
    "which can represent arrays of any number of dimensions(1D, 2D, 3D, and beyond).\n",
    "\n",
    "Key Features of Multidimensional Arrays in NumPy:\n",
    "a. Shape and Dimensions: \n",
    "1. Each array has a .shape attribute that shows its dimensions.\n",
    "2. .ndim gives the number of dimensions(axes).\n",
    "\n",
    "b. Efficient Storage: Multidimensional arrays are stored in contiguous memory, enabling fast computations.\n",
    "\n",
    "c. Slicing and Indexing: Supports intuitive slicing for each axis:\n",
    "arr[1, 2] accesses the element at row 1, column 2 in a 2D array.\n",
    "\n",
    "d. Broadcasting Support\n",
    "Allows arithmetic operations across arrays of different shapes and dimensions.\n",
    "\n",
    "e. Reshaping and Transposing\n",
    "Use .reshape(), .transpose(), and .swapaxes() to modify the layout without copying data.\n",
    "\n",
    "Example:\n",
    "\n",
    "import numpy as np\n",
    "arr=np.array([[1, 2, 3], [4, 5, 6]])\n",
    "print(arr.shape)   #(2, 3)\n",
    "print(arr.ndim)    #2\n",
    "print(arr[1, 2])   #Output: 6\n",
    "\n",
    "16. What is the role of Bokeh in data visualization?\n",
    "\n",
    "-> Bokeh is a Python library for creating interactive, web-ready visualizations.\n",
    "\n",
    "Role of Bokeh in Data Visualization:\n",
    "a. Interactive Plots:  \n",
    "   Enables zooming, panning, tooltips, sliders, and other widgets—ideal for dynamic data exploration.\n",
    "\n",
    "b. Web Integration:  \n",
    "   Outputs charts as HTML, making it easy to embed visualizations into websites or dashboards.\n",
    "\n",
    "c. High Performance:  \n",
    "   Handles large datasets efficiently, especially useful for real-time data visualization.\n",
    "\n",
    "d. Customizable Layouts:  \n",
    "   Supports building complex dashboards with multiple plots and UI controls using Bokeh’s layout engine.\n",
    "\n",
    "e. Server-Side Apps:  \n",
    "   Can create live, data-driven web apps with Bokeh Server, without needing JavaScript.\n",
    "\n",
    "17. Explain the difference between apply() and map() in Pandas.\n",
    "\n",
    "-> The main difference between apply() and map() in Pandas lies in where and how they are used:\n",
    "\n",
    "map():\n",
    "a. Used only on Series(usually a single column).\n",
    "b. Applies a function element-wise to each value in the Series.\n",
    "c. Ideal for value transformation or mapping.\n",
    "\n",
    "Example:\n",
    "\n",
    "import pandas as pd\n",
    "df=pd.DataFrame({'A': [1, 2, 3]})\n",
    "df['A']=df['A'].map(lambda x: x * 2)\n",
    "\n",
    "apply():\n",
    "a. Can be used on both Series and DataFrames.\n",
    "b. On a Series: works like map()(element-wise).\n",
    "c. On a DataFrame: applies a function along rows(axis=1) or columns(axis=0).\n",
    "d. Useful for more complex row/column-wise operations.\n",
    "\n",
    "Example:\n",
    "\n",
    "df=pd.DataFrame({'A': [1, 2], 'B': [3, 4]})\n",
    "df['Sum']=df.apply(lambda row: row['A']+row['B'], axis=1)\n",
    "\n",
    "18. What are some advanced features of NumPy?\n",
    "\n",
    "-> Here are some advanced features of NumPy that make it a powerful tool for numerical computing:\n",
    "\n",
    "a. Broadcasting: Allows arithmetic operations between arrays of different shapes.\n",
    "\n",
    "import numpy as np\n",
    "a=np.array([1, 2, 3])\n",
    "b=2\n",
    "print(a+b)  #[3 4 5]\n",
    "\n",
    "b. Vectorized Operations: Perform operations on entire arrays without explicit loops, leading to faster computations.\n",
    "\n",
    "c. Multidimensional Array Manipulation: Methods like reshape(), transpose(), swapaxes(), and expand_dims() \n",
    "allow flexible reshaping and axis operations.\n",
    "\n",
    "d. Masked Arrays: Handle missing or invalid data by masking certain elements.\n",
    "\n",
    "import numpy.ma as ma\n",
    "a=ma.array([1, 2, 3], mask=[0, 1, 0])\n",
    "\n",
    "e. Advanced Indexing and Slicing: Supports boolean indexing, fancy indexing, and condition-based filtering.\n",
    "\n",
    "a = np.array([1, 2, 3, 4])\n",
    "print(a[a > 2])  # [3 4]\n",
    "\n",
    "f. Linear Algebra Functions: Provides dot, inv, eig, linalg.solve(), etc., for matrix operations and solving equations.\n",
    "\n",
    "g. Random Sampling and Distributions: Generate random numbers, perform sampling, and simulate statistical distributions \n",
    "via numpy.random.\n",
    "\n",
    "h. Memory Efficiency: Uses less memory than Python lists and supports shared-memory views (e.g., slices don’t copy data).\n",
    "\n",
    "i. FFT and Signal Processing: numpy.fft for fast Fourier transforms and spectral analysis.\n",
    "\n",
    "j. Integration with Other Libraries: Works seamlessly with SciPy, Pandas, Scikit-learn, TensorFlow, etc., \n",
    "as the underlying array engine.\n",
    "\n",
    "19. How does Pandas simplify time series analysis?\n",
    "\n",
    "-> Pandas simplifies time series analysis by providing powerful, built-in features tailored for working with dates and times:\n",
    "\n",
    "a. Datetime Indexing: Use DatetimeIndex to set date/time as the index for easy slicing, filtering, and resampling.\n",
    "   \n",
    "   df.index = pd.to_datetime(df['Date'])\n",
    "   \n",
    "b. Date Parsing: Automatically converts strings to datetime objects using pd.to_datetime().\n",
    "\n",
    "c. Resampling: Easily aggregate data to different time frequencies (daily, monthly, yearly, etc.).\n",
    "\n",
    "   df.resample('M').mean()\n",
    "\n",
    "d. Time Shifting: Use .shift() and .tshift() to move data forward or backward in time.\n",
    "\n",
    "e. Rolling Windows: Compute moving averages and other statistics with .rolling().\n",
    "   \n",
    "   df['rolling_avg'] = df['value'].rolling(window=7).mean()\n",
    "   \n",
    "f. Period and Timedelta Support: Handle periods (e.g., months or quarters) and time differences (Timedelta) easily.\n",
    "\n",
    "20. What is the role of a pivot table in Pandas?\n",
    "\n",
    "-> A pivot table in Pandas is used to summarize and aggregate data. \n",
    "It allows you to reshape long data into a wide format, group by categories, \n",
    "and perform aggregate functions(e.g., sum, mean) on values. It’s useful for multi-dimensional analysis \n",
    "and better understanding relationships between variables.\n",
    "\n",
    "Example:\n",
    "\n",
    "pivot_df = pd.pivot_table(df, values='Value', index='Category', columns='Subcategory', aggfunc='sum')\n",
    "\n",
    "21. Why is NumPy’s array slicing faster than Python’s list slicing?\n",
    "\n",
    "-> NumPy’s array slicing is faster than Python’s list slicing due to the following reasons:\n",
    "\n",
    "a. Contiguous Memory Allocation:  \n",
    "   1. NumPy arrays are stored in contiguous memory(all elements are stored in a single block of memory), \n",
    "   which allows for fast access and manipulation.\n",
    "   2. Python lists, on the other hand, store elements in non-contiguous memory locations, leading to slower access.\n",
    "\n",
    "b. Optimized C Implementation:\n",
    "   NumPy is written in C, which is much faster than Python’s native list operations. \n",
    "   The underlying low-level C code in NumPy is highly optimized for performance.\n",
    "   \n",
    "c. No Data Copying:  \n",
    "   1. When slicing a NumPy array, the resulting slice is typically a view on the original data,\n",
    "   meaning no data is copied, and only the reference is returned.\n",
    "   2. Python lists create a new sublist when slicing, \n",
    "   which involves copying the data, leading to higher time and space complexity.\n",
    "\n",
    "d. Efficient Memory Handling:  \n",
    "   NumPy has efficient memory management techniques, such as striding, \n",
    "   which allow for faster slicing and access compared to Python lists that require more overhead.\n",
    "\n",
    "\n",
    "22. What are some common use cases for Seaborn?\n",
    "\n",
    "-> Seaborn is a powerful data visualization library built on top of Matplotlib, \n",
    "designed to make it easier to create aesthetically pleasing and informative visualizations. \n",
    "Here are some common use cases:\n",
    "\n",
    "a. Statistical Plots:\n",
    "   Seaborn is great for visualizing statistical relationships between variables.\n",
    "   Examples: scatter plots, line plots, and regression plots.\n",
    "\n",
    "   Example:\n",
    "   \n",
    "   sns.regplot(x=\"Age\", y=\"Income\", data=df)\n",
    "   \n",
    "\n",
    "b. Distribution Plots:\n",
    "   Seaborn provides tools to visualize the distribution of a variable.\n",
    "   Examples: histograms, KDE(Kernel Density Estimate) plots, and box plots.\n",
    "\n",
    "   Example:\n",
    "   \n",
    "   sns.histplot(df['Age'], kde=True)\n",
    "   \n",
    "c. Categorical Plots:\n",
    "   It is useful for visualizing relationships between categorical variables and numerical values.\n",
    "   Examples: bar plots, box plots, violin plots, count plots.\n",
    "\n",
    "   Example:\n",
    "   \n",
    "   sns.boxplot(x=\"Category\", y=\"Value\", data=df)\n",
    "\n",
    "d. Heatmaps:\n",
    "   Seaborn can visualize correlation matrices and other 2D data.\n",
    "   Example: correlation heatmaps for analyzing relationships between features.\n",
    "\n",
    "   Example:\n",
    "   \n",
    "   sns.heatmap(correlation_matrix, annot=True, cmap=\"coolwarm\")\n",
    "\n",
    "e. Pairwise Relationships:\n",
    "   Seaborn's pairplot helps in exploring relationships between all pairs of variables in a dataset.\n",
    "   It’s great for multivariate analysis\n",
    "\n",
    "   Example:\n",
    "   \n",
    "   sns.pairplot(df)\n",
    "\n",
    "f. Time Series Visualizations:\n",
    "   Seaborn is also useful for visualizing time-series data, showing trends over time with line plots.\n",
    "\n",
    "   Example:\n",
    "   \n",
    "   sns.lineplot(x=\"Date\", y=\"Sales\", data=df)\n",
    "\"\"\""
   ]
  },
  {
   "cell_type": "markdown",
   "id": "4e712a7b",
   "metadata": {},
   "source": [
    " Practical"
   ]
  },
  {
   "cell_type": "code",
   "execution_count": 89,
   "id": "66225ecc",
   "metadata": {},
   "outputs": [
    {
     "name": "stdout",
     "output_type": "stream",
     "text": [
      "2D NumPy array:\n",
      "[[9 2 4 3]\n",
      " [9 6 8 5]\n",
      " [6 1 7 2]]\n",
      "\n",
      "Sum of each row:\n",
      "       Column 1  Column 2  Column 3  Column 4  Sum\n",
      "Row 1         9         2         4         3   18\n",
      "Row 2         9         6         8         5   28\n",
      "Row 3         6         1         7         2   16\n"
     ]
    }
   ],
   "source": [
    "# 1. How do you create a 2D NumPy array and calculate the sum of each row?\n",
    "\n",
    "import numpy as np\n",
    "import pandas as pd\n",
    "arr=np.random.randint(1,10,(3,4))\n",
    "print(\"2D NumPy array:\")\n",
    "print(arr)\n",
    "df=pd.DataFrame(arr,columns=[\"Column 1\",\"Column 2\",\"Column 3\",\"Column 4\"],index=[\"Row 1\",\"Row 2\",\"Row 3\"])\n",
    "print(\"\\nSum of each row:\")\n",
    "df[\"Sum\"]=df.sum(axis=1)\n",
    "print(df)"
   ]
  },
  {
   "cell_type": "code",
   "execution_count": 90,
   "id": "e843da28",
   "metadata": {},
   "outputs": [
    {
     "name": "stdout",
     "output_type": "stream",
     "text": [
      "Mean of 'Age' column is 38.9218\n"
     ]
    }
   ],
   "source": [
    "# 2. Write a Pandas script to find the mean of a specific column in a DataFrame.\n",
    "\n",
    "import pandas as pd\n",
    "df=pd.read_csv(\"Bank_churn.csv\")\n",
    "print(f\"Mean of 'Age' column is {df['Age'].mean()}\")\n"
   ]
  },
  {
   "cell_type": "code",
   "execution_count": 91,
   "id": "c491664e",
   "metadata": {},
   "outputs": [
    {
     "data": {
      "image/png": "[encoded data removed]",
      "text/plain": [
       "<Figure size 640x480 with 1 Axes>"
      ]
     },
     "metadata": {},
     "output_type": "display_data"
    }
   ],
   "source": [
    "# 3. Create a scatter plot using Matplotlib.\n",
    "\n",
    "import pandas as pd\n",
    "import matplotlib.pyplot as plt\n",
    "df=pd.read_csv(\"Bank_churn.csv\")\n",
    "plt.scatter(df[\"Age\"],df[\"CreditScore\"])\n",
    "plt.title(\"Age vs Credit Score\")\n",
    "plt.xlabel(\"Age\")\n",
    "plt.ylabel(\"Credit Score\")\n",
    "plt.grid(True)\n",
    "plt.show()"
   ]
  },
  {
   "cell_type": "code",
   "execution_count": 92,
   "id": "bb3c5673",
   "metadata": {},
   "outputs": [
    {
     "data": {
      "image/png": "[encoded data removed]",
      "text/plain": [
       "<Figure size 1000x800 with 2 Axes>"
      ]
     },
     "metadata": {},
     "output_type": "display_data"
    }
   ],
   "source": [
    "# 4. How do you calculate the correlation matrix using Seaborn and visualize it with a heatmap?\n",
    "\n",
    "import pandas as pd\n",
    "import seaborn as sns\n",
    "import matplotlib.pyplot as plt\n",
    "df=pd.read_csv(\"Bank_churn.csv\")\n",
    "df_filtered=df.drop(\"RowNumber\",axis=1)\n",
    "correlation_matrix=df_filtered.corr(numeric_only=True)\n",
    "plt.figure(figsize=(10, 8))\n",
    "sns.heatmap(correlation_matrix,annot=True,cmap=\"coolwarm\",fmt=\".2f\",linewidths=0.5)\n",
    "plt.title(\"Correlation Matrix Heatmap\") \n",
    "plt.show()"
   ]
  },
  {
   "cell_type": "code",
   "execution_count": 93,
   "id": "6eb78c57",
   "metadata": {},
   "outputs": [
    {
     "data": {
      "application/vnd.plotly.v1+json": {
       "config": {
        "plotlyServerURL": "https://plot.ly"
       },
       "data": [
        {
         "hovertemplate": "Age=%{x}<br>EstimatedSalary=%{y}<extra></extra>",
         "legendgroup": "",
         "marker": {
          "color": "red",
          "pattern": {
           "shape": ""
          }
         },
         "name": "",
         "orientation": "v",
         "showlegend": false,
         "textposition": "auto",
         "type": "bar",
         "x": {
          "bdata": "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",
          "dtype": "i1"
         },
         "xaxis": "x",
         "y": {
          "bdata": "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",
          "dtype": "f8"
         },
         "yaxis": "y"
        }
       ],
       "layout": {
        "barmode": "relative",
        "legend": {
         "tracegroupgap": 0
        },
        "template": {
         "data": {
          "bar": [
           {
            "error_x": {
             "color": "#2a3f5f"
            },
            "error_y": {
             "color": "#2a3f5f"
            },
            "marker": {
             "line": {
              "color": "#E5ECF6",
              "width": 0.5
             },
             "pattern": {
              "fillmode": "overlay",
              "size": 10,
              "solidity": 0.2
             }
            },
            "type": "bar"
           }
          ],
          "barpolar": [
           {
            "marker": {
             "line": {
              "color": "#E5ECF6",
              "width": 0.5
             },
             "pattern": {
              "fillmode": "overlay",
              "size": 10,
              "solidity": 0.2
             }
            },
            "type": "barpolar"
           }
          ],
          "carpet": [
           {
            "aaxis": {
             "endlinecolor": "#2a3f5f",
             "gridcolor": "white",
             "linecolor": "white",
             "minorgridcolor": "white",
             "startlinecolor": "#2a3f5f"
            },
            "baxis": {
             "endlinecolor": "#2a3f5f",
             "gridcolor": "white",
             "linecolor": "white",
             "minorgridcolor": "white",
             "startlinecolor": "#2a3f5f"
            },
            "type": "carpet"
           }
          ],
          "choropleth": [
           {
            "colorbar": {
             "outlinewidth": 0,
             "ticks": ""
            },
            "type": "choropleth"
           }
          ],
          "contour": [
           {
            "colorbar": {
             "outlinewidth": 0,
             "ticks": ""
            },
            "colorscale": [
             [
              0,
              "#0d0887"
             ],
             [
              0.1111111111111111,
              "#46039f"
             ],
             [
              0.2222222222222222,
              "#7201a8"
             ],
             [
              0.3333333333333333,
              "#9c179e"
             ],
             [
              0.4444444444444444,
              "#bd3786"
             ],
             [
              0.5555555555555556,
              "#d8576b"
             ],
             [
              0.6666666666666666,
              "#ed7953"
             ],
             [
              0.7777777777777778,
              "#fb9f3a"
             ],
             [
              0.8888888888888888,
              "#fdca26"
             ],
             [
              1,
              "#f0f921"
             ]
            ],
            "type": "contour"
           }
          ],
          "contourcarpet": [
           {
            "colorbar": {
             "outlinewidth": 0,
             "ticks": ""
            },
            "type": "contourcarpet"
           }
          ],
          "heatmap": [
           {
            "colorbar": {
             "outlinewidth": 0,
             "ticks": ""
            },
            "colorscale": [
             [
              0,
              "#0d0887"
             ],
             [
              0.1111111111111111,
              "#46039f"
             ],
             [
              0.2222222222222222,
              "#7201a8"
             ],
             [
              0.3333333333333333,
              "#9c179e"
             ],
             [
              0.4444444444444444,
              "#bd3786"
             ],
             [
              0.5555555555555556,
              "#d8576b"
             ],
             [
              0.6666666666666666,
              "#ed7953"
             ],
             [
              0.7777777777777778,
              "#fb9f3a"
             ],
             [
              0.8888888888888888,
              "#fdca26"
             ],
             [
              1,
              "#f0f921"
             ]
            ],
            "type": "heatmap"
           }
          ],
          "histogram": [
           {
            "marker": {
             "pattern": {
              "fillmode": "overlay",
              "size": 10,
              "solidity": 0.2
             }
            },
            "type": "histogram"
           }
          ],
          "histogram2d": [
           {
            "colorbar": {
             "outlinewidth": 0,
             "ticks": ""
            },
            "colorscale": [
             [
              0,
              "#0d0887"
             ],
             [
              0.1111111111111111,
              "#46039f"
             ],
             [
              0.2222222222222222,
              "#7201a8"
             ],
             [
              0.3333333333333333,
              "#9c179e"
             ],
             [
              0.4444444444444444,
              "#bd3786"
             ],
             [
              0.5555555555555556,
              "#d8576b"
             ],
             [
              0.6666666666666666,
              "#ed7953"
             ],
             [
              0.7777777777777778,
              "#fb9f3a"
             ],
             [
              0.8888888888888888,
              "#fdca26"
             ],
             [
              1,
              "#f0f921"
             ]
            ],
            "type": "histogram2d"
           }
          ],
          "histogram2dcontour": [
           {
            "colorbar": {
             "outlinewidth": 0,
             "ticks": ""
            },
            "colorscale": [
             [
              0,
              "#0d0887"
             ],
             [
              0.1111111111111111,
              "#46039f"
             ],
             [
              0.2222222222222222,
              "#7201a8"
             ],
             [
              0.3333333333333333,
              "#9c179e"
             ],
             [
              0.4444444444444444,
              "#bd3786"
             ],
             [
              0.5555555555555556,
              "#d8576b"
             ],
             [
              0.6666666666666666,
              "#ed7953"
             ],
             [
              0.7777777777777778,
              "#fb9f3a"
             ],
             [
              0.8888888888888888,
              "#fdca26"
             ],
             [
              1,
              "#f0f921"
             ]
            ],
            "type": "histogram2dcontour"
           }
          ],
          "mesh3d": [
           {
            "colorbar": {
             "outlinewidth": 0,
             "ticks": ""
            },
            "type": "mesh3d"
           }
          ],
          "parcoords": [
           {
            "line": {
             "colorbar": {
              "outlinewidth": 0,
              "ticks": ""
             }
            },
            "type": "parcoords"
           }
          ],
          "pie": [
           {
            "automargin": true,
            "type": "pie"
           }
          ],
          "scatter": [
           {
            "fillpattern": {
             "fillmode": "overlay",
             "size": 10,
             "solidity": 0.2
            },
            "type": "scatter"
           }
          ],
          "scatter3d": [
           {
            "line": {
             "colorbar": {
              "outlinewidth": 0,
              "ticks": ""
             }
            },
            "marker": {
             "colorbar": {
              "outlinewidth": 0,
              "ticks": ""
             }
            },
            "type": "scatter3d"
           }
          ],
          "scattercarpet": [
           {
            "marker": {
             "colorbar": {
              "outlinewidth": 0,
              "ticks": ""
             }
            },
            "type": "scattercarpet"
           }
          ],
          "scattergeo": [
           {
            "marker": {
             "colorbar": {
              "outlinewidth": 0,
              "ticks": ""
             }
            },
            "type": "scattergeo"
           }
          ],
          "scattergl": [
           {
            "marker": {
             "colorbar": {
              "outlinewidth": 0,
              "ticks": ""
             }
            },
            "type": "scattergl"
           }
          ],
          "scattermap": [
           {
            "marker": {
             "colorbar": {
              "outlinewidth": 0,
              "ticks": ""
             }
            },
            "type": "scattermap"
           }
          ],
          "scattermapbox": [
           {
            "marker": {
             "colorbar": {
              "outlinewidth": 0,
              "ticks": ""
             }
            },
            "type": "scattermapbox"
           }
          ],
          "scatterpolar": [
           {
            "marker": {
             "colorbar": {
              "outlinewidth": 0,
              "ticks": ""
             }
            },
            "type": "scatterpolar"
           }
          ],
          "scatterpolargl": [
           {
            "marker": {
             "colorbar": {
              "outlinewidth": 0,
              "ticks": ""
             }
            },
            "type": "scatterpolargl"
           }
          ],
          "scatterternary": [
           {
            "marker": {
             "colorbar": {
              "outlinewidth": 0,
              "ticks": ""
             }
            },
            "type": "scatterternary"
           }
          ],
          "surface": [
           {
            "colorbar": {
             "outlinewidth": 0,
             "ticks": ""
            },
            "colorscale": [
             [
              0,
              "#0d0887"
             ],
             [
              0.1111111111111111,
              "#46039f"
             ],
             [
              0.2222222222222222,
              "#7201a8"
             ],
             [
              0.3333333333333333,
              "#9c179e"
             ],
             [
              0.4444444444444444,
              "#bd3786"
             ],
             [
              0.5555555555555556,
              "#d8576b"
             ],
             [
              0.6666666666666666,
              "#ed7953"
             ],
             [
              0.7777777777777778,
              "#fb9f3a"
             ],
             [
              0.8888888888888888,
              "#fdca26"
             ],
             [
              1,
              "#f0f921"
             ]
            ],
            "type": "surface"
           }
          ],
          "table": [
           {
            "cells": {
             "fill": {
              "color": "#EBF0F8"
             },
             "line": {
              "color": "white"
             }
            },
            "header": {
             "fill": {
              "color": "#C8D4E3"
             },
             "line": {
              "color": "white"
             }
            },
            "type": "table"
           }
          ]
         },
         "layout": {
          "annotationdefaults": {
           "arrowcolor": "#2a3f5f",
           "arrowhead": 0,
           "arrowwidth": 1
          },
          "autotypenumbers": "strict",
          "coloraxis": {
           "colorbar": {
            "outlinewidth": 0,
            "ticks": ""
           }
          },
          "colorscale": {
           "diverging": [
            [
             0,
             "#8e0152"
            ],
            [
             0.1,
             "#c51b7d"
            ],
            [
             0.2,
             "#de77ae"
            ],
            [
             0.3,
             "#f1b6da"
            ],
            [
             0.4,
             "#fde0ef"
            ],
            [
             0.5,
             "#f7f7f7"
            ],
            [
             0.6,
             "#e6f5d0"
            ],
            [
             0.7,
             "#b8e186"
            ],
            [
             0.8,
             "#7fbc41"
            ],
            [
             0.9,
             "#4d9221"
            ],
            [
             1,
             "#276419"
            ]
           ],
           "sequential": [
            [
             0,
             "#0d0887"
            ],
            [
             0.1111111111111111,
             "#46039f"
            ],
            [
             0.2222222222222222,
             "#7201a8"
            ],
            [
             0.3333333333333333,
             "#9c179e"
            ],
            [
             0.4444444444444444,
             "#bd3786"
            ],
            [
             0.5555555555555556,
             "#d8576b"
            ],
            [
             0.6666666666666666,
             "#ed7953"
            ],
            [
             0.7777777777777778,
             "#fb9f3a"
            ],
            [
             0.8888888888888888,
             "#fdca26"
            ],
            [
             1,
             "#f0f921"
            ]
           ],
           "sequentialminus": [
            [
             0,
             "#0d0887"
            ],
            [
             0.1111111111111111,
             "#46039f"
            ],
            [
             0.2222222222222222,
             "#7201a8"
            ],
            [
             0.3333333333333333,
             "#9c179e"
            ],
            [
             0.4444444444444444,
             "#bd3786"
            ],
            [
             0.5555555555555556,
             "#d8576b"
            ],
            [
             0.6666666666666666,
             "#ed7953"
            ],
            [
             0.7777777777777778,
             "#fb9f3a"
            ],
            [
             0.8888888888888888,
             "#fdca26"
            ],
            [
             1,
             "#f0f921"
            ]
           ]
          },
          "colorway": [
           "#636efa",
           "#EF553B",
           "#00cc96",
           "#ab63fa",
           "#FFA15A",
           "#19d3f3",
           "#FF6692",
           "#B6E880",
           "#FF97FF",
           "#FECB52"
          ],
          "font": {
           "color": "#2a3f5f"
          },
          "geo": {
           "bgcolor": "white",
           "lakecolor": "white",
           "landcolor": "#E5ECF6",
           "showlakes": true,
           "showland": true,
           "subunitcolor": "white"
          },
          "hoverlabel": {
           "align": "left"
          },
          "hovermode": "closest",
          "mapbox": {
           "style": "light"
          },
          "paper_bgcolor": "white",
          "plot_bgcolor": "#E5ECF6",
          "polar": {
           "angularaxis": {
            "gridcolor": "white",
            "linecolor": "white",
            "ticks": ""
           },
           "bgcolor": "#E5ECF6",
           "radialaxis": {
            "gridcolor": "white",
            "linecolor": "white",
            "ticks": ""
           }
          },
          "scene": {
           "xaxis": {
            "backgroundcolor": "#E5ECF6",
            "gridcolor": "white",
            "gridwidth": 2,
            "linecolor": "white",
            "showbackground": true,
            "ticks": "",
            "zerolinecolor": "white"
           },
           "yaxis": {
            "backgroundcolor": "#E5ECF6",
            "gridcolor": "white",
            "gridwidth": 2,
            "linecolor": "white",
            "showbackground": true,
            "ticks": "",
            "zerolinecolor": "white"
           },
           "zaxis": {
            "backgroundcolor": "#E5ECF6",
            "gridcolor": "white",
            "gridwidth": 2,
            "linecolor": "white",
            "showbackground": true,
            "ticks": "",
            "zerolinecolor": "white"
           }
          },
          "shapedefaults": {
           "line": {
            "color": "#2a3f5f"
           }
          },
          "ternary": {
           "aaxis": {
            "gridcolor": "white",
            "linecolor": "white",
            "ticks": ""
           },
           "baxis": {
            "gridcolor": "white",
            "linecolor": "white",
            "ticks": ""
           },
           "bgcolor": "#E5ECF6",
           "caxis": {
            "gridcolor": "white",
            "linecolor": "white",
            "ticks": ""
           }
          },
          "title": {
           "x": 0.05
          },
          "xaxis": {
           "automargin": true,
           "gridcolor": "white",
           "linecolor": "white",
           "ticks": "",
           "title": {
            "standoff": 15
           },
           "zerolinecolor": "white",
           "zerolinewidth": 2
          },
          "yaxis": {
           "automargin": true,
           "gridcolor": "white",
           "linecolor": "white",
           "ticks": "",
           "title": {
            "standoff": 15
           },
           "zerolinecolor": "white",
           "zerolinewidth": 2
          }
         }
        },
        "title": {
         "text": "Bar Plot of Age vs Estimated Salary"
        },
        "xaxis": {
         "anchor": "y",
         "domain": [
          0,
          1
         ],
         "title": {
          "text": "Age"
         }
        },
        "yaxis": {
         "anchor": "x",
         "domain": [
          0,
          1
         ],
         "title": {
          "text": "EstimatedSalary"
         }
        }
       }
      }
     },
     "metadata": {},
     "output_type": "display_data"
    }
   ],
   "source": [
    "# 5. Generate a bar plot using Plotly.\n",
    "\n",
    "import pandas as pd\n",
    "import plotly.express as px\n",
    "df=pd.read_csv(\"Bank_churn.csv\") \n",
    "figure=px.bar(df,x=\"Age\",y=\"EstimatedSalary\",title=\"Bar Plot of Age vs Estimated Salary\")\n",
    "figure.update_traces(marker_color='red')\n",
    "figure.show()"
   ]
  },
  {
   "cell_type": "code",
   "execution_count": 102,
   "id": "c8c6aa34",
   "metadata": {},
   "outputs": [
    {
     "name": "stdout",
     "output_type": "stream",
     "text": [
      "       Column 1  Column 2  Column 3  Column 4  Column 4*2\n",
      "Row 1         9         1         4         6          12\n",
      "Row 2         3         9         5         9          18\n",
      "Row 3         4         2         4         9          18\n"
     ]
    }
   ],
   "source": [
    "# 6. Create a DataFrame and add a new column based on an existing column.\n",
    "\n",
    "import numpy as np\n",
    "import pandas as pd\n",
    "arr=np.random.randint(1,10,(3,4))\n",
    "df=pd.DataFrame(arr,columns=[\"Column 1\",\"Column 2\",\"Column 3\",\"Column 4\"],index=[\"Row 1\",\"Row 2\",\"Row 3\"])\n",
    "df[\"Column 4*2\"]=df[\"Column 4\"]*2\n",
    "print(df)"
   ]
  },
  {
   "cell_type": "code",
   "execution_count": 95,
   "id": "85be447e",
   "metadata": {},
   "outputs": [
    {
     "name": "stdout",
     "output_type": "stream",
     "text": [
      "Array 1:\n",
      "[[2 1 6 7]\n",
      " [7 2 8 4]\n",
      " [3 5 8 1]]\n",
      "Array 2:\n",
      "[[18 17 16  9]\n",
      " [ 9 10  7  5]\n",
      " [16 14  2  9]]\n",
      "Element-wise multiplication result of the two NumPy arrays:\n",
      "[[36 17 96 63]\n",
      " [63 20 56 20]\n",
      " [48 70 16  9]]\n"
     ]
    }
   ],
   "source": [
    "# 7. Write a program to perform element-wise multiplication of two NumPy arrays.\n",
    "\n",
    "import numpy as np\n",
    "arr1=np.random.randint(1,10,(3,4))\n",
    "arr2=np.random.randint(1,20,(3,4))\n",
    "print(\"Array 1:\")\n",
    "print(arr1) \n",
    "print(\"Array 2:\")\n",
    "print(arr2)\n",
    "result=arr1*arr2\n",
    "print(\"Element-wise multiplication result of the two NumPy arrays:\")    \n",
    "print(result)"
   ]
  },
  {
   "cell_type": "code",
   "execution_count": 96,
   "id": "d44e0c2a",
   "metadata": {},
   "outputs": [
    {
     "data": {
      "image/png": "[encoded data removed]",
      "text/plain": [
       "<Figure size 640x480 with 1 Axes>"
      ]
     },
     "metadata": {},
     "output_type": "display_data"
    }
   ],
   "source": [
    "# 8. Create a line plot with multiple lines using Matplotlib.\n",
    "\n",
    "import pandas as pd\n",
    "import matplotlib.pyplot as plt\n",
    "df=pd.read_csv(\"Bank_churn.csv\")\n",
    "plt.plot(df[\"Age\"],df[\"CreditScore\"],\"--\",label=\"Credit Score\")\n",
    "plt.plot(df[\"Age\"],df[\"EstimatedSalary\"],\"-\",label=\"Estimated Salary\")\n",
    "plt.title(\"Multiple Line Plot\")\n",
    "plt.xlabel(\"Age\")   \n",
    "plt.ylabel(\"Values\")\n",
    "plt.legend()\n",
    "plt.grid(True)  \n",
    "plt.show()"
   ]
  },
  {
   "cell_type": "code",
   "execution_count": 97,
   "id": "9284f92b",
   "metadata": {},
   "outputs": [
    {
     "name": "stdout",
     "output_type": "stream",
     "text": [
      "Filtered DataFrame where Credit Score>650:\n",
      "      RowNumber  CustomerId    Surname  CreditScore Geography  Gender  Age  \\\n",
      "3             4    15701354       Boni          699    France  Female   39   \n",
      "4             5    15737888   Mitchell          850     Spain  Female   43   \n",
      "6             7    15592531   Bartlett          822    France    Male   50   \n",
      "9            10    15592389         H?          684    France    Male   27   \n",
      "16           17    15737452      Romeo          653   Germany    Male   58   \n",
      "...         ...         ...        ...          ...       ...     ...  ...   \n",
      "9994       9995    15719294       Wood          800    France  Female   29   \n",
      "9995       9996    15606229   Obijiaku          771    France    Male   39   \n",
      "9997       9998    15584532        Liu          709    France  Female   36   \n",
      "9998       9999    15682355  Sabbatini          772   Germany    Male   42   \n",
      "9999      10000    15628319     Walker          792    France  Female   28   \n",
      "\n",
      "      Tenure    Balance  NumOfProducts  HasCrCard  IsActiveMember  \\\n",
      "3          1       0.00              2          0               0   \n",
      "4          2  125510.82              1          1               1   \n",
      "6          7       0.00              2          1               1   \n",
      "9          2  134603.88              1          1               1   \n",
      "16         1  132602.88              1          1               0   \n",
      "...      ...        ...            ...        ...             ...   \n",
      "9994       2       0.00              2          0               0   \n",
      "9995       5       0.00              2          1               0   \n",
      "9997       7       0.00              1          0               1   \n",
      "9998       3   75075.31              2          1               0   \n",
      "9999       4  130142.79              1          1               0   \n",
      "\n",
      "      EstimatedSalary  Exited  \n",
      "3            93826.63       0  \n",
      "4            79084.10       0  \n",
      "6            10062.80       0  \n",
      "9            71725.73       0  \n",
      "16            5097.67       1  \n",
      "...               ...     ...  \n",
      "9994        167773.55       0  \n",
      "9995         96270.64       0  \n",
      "9997         42085.58       1  \n",
      "9998         92888.52       1  \n",
      "9999         38190.78       0  \n",
      "\n",
      "[5063 rows x 14 columns]\n"
     ]
    }
   ],
   "source": [
    "# 9. Generate a Pandas DataFrame and filter rows where a column value is greater than a threshold.\n",
    "\n",
    "import pandas as pd\n",
    "df=pd.read_csv(\"Bank_churn.csv\")\n",
    "df_filtered=df[df[\"CreditScore\"]>650]\n",
    "print(\"Filtered DataFrame where Credit Score>650:\")\n",
    "print(df_filtered)"
   ]
  },
  {
   "cell_type": "code",
   "execution_count": 98,
   "id": "20aa322a",
   "metadata": {},
   "outputs": [
    {
     "data": {
      "image/png": "[encoded data removed]",
      "text/plain": [
       "<Figure size 640x480 with 1 Axes>"
      ]
     },
     "metadata": {},
     "output_type": "display_data"
    }
   ],
   "source": [
    "# 10. Create a histogram using Seaborn to visualize a distribution.\n",
    "\n",
    "import pandas as pd\n",
    "import seaborn as sns\n",
    "import matplotlib.pyplot as plt\n",
    "df=pd.read_csv(\"Bank_churn.csv\")\n",
    "sns.histplot(df[\"Age\"],bins=20,kde=True,color=\"blue\")\n",
    "plt.title(\"Age Distribution Histogram\") \n",
    "plt.xlabel(\"Age\")\n",
    "plt.ylabel(\"Frequency\")\n",
    "plt.show()"
   ]
  },
  {
   "cell_type": "code",
   "execution_count": 99,
   "id": "183837cd",
   "metadata": {},
   "outputs": [
    {
     "name": "stdout",
     "output_type": "stream",
     "text": [
      "Matrix 1:\n",
      "[[1 2 3]\n",
      " [4 5 6]]\n",
      "Matrix 2:\n",
      "[[ 7  8]\n",
      " [ 9 10]\n",
      " [11 12]]\n",
      "Matrix multiplication result using NumPy:\n",
      "[[ 58  64]\n",
      " [139 154]]\n"
     ]
    }
   ],
   "source": [
    "# 11. Perform matrix multiplication using NumPy.\n",
    "\n",
    "import numpy as np\n",
    "list1=[[1,2,3],[4,5,6]]\n",
    "list2=[[7,8],[9,10],[11,12]]\n",
    "arr1=np.matrix(list1)\n",
    "arr2=np.matrix(list2)\n",
    "result=np.dot(arr1,arr2)\n",
    "print(\"Matrix 1:\")\n",
    "print(arr1)\n",
    "print(\"Matrix 2:\")\n",
    "print(arr2)\n",
    "print(\"Matrix multiplication result using NumPy:\")\n",
    "print(result) "
   ]
  },
  {
   "cell_type": "code",
   "execution_count": 100,
   "id": "6670eb00",
   "metadata": {},
   "outputs": [
    {
     "name": "stdout",
     "output_type": "stream",
     "text": [
      "First 5 rows of the DataFrame:\n",
      "   RowNumber  CustomerId   Surname  CreditScore Geography  Gender  Age  \\\n",
      "0          1    15634602  Hargrave          619    France  Female   42   \n",
      "1          2    15647311      Hill          608     Spain  Female   41   \n",
      "2          3    15619304      Onio          502    France  Female   42   \n",
      "3          4    15701354      Boni          699    France  Female   39   \n",
      "4          5    15737888  Mitchell          850     Spain  Female   43   \n",
      "\n",
      "   Tenure    Balance  NumOfProducts  HasCrCard  IsActiveMember  \\\n",
      "0       2       0.00              1          1               1   \n",
      "1       1   83807.86              1          0               1   \n",
      "2       8  159660.80              3          1               0   \n",
      "3       1       0.00              2          0               0   \n",
      "4       2  125510.82              1          1               1   \n",
      "\n",
      "   EstimatedSalary  Exited  \n",
      "0        101348.88       1  \n",
      "1        112542.58       0  \n",
      "2        113931.57       1  \n",
      "3         93826.63       0  \n",
      "4         79084.10       0  \n"
     ]
    }
   ],
   "source": [
    "# 12. Use Pandas to load a CSV file and display its first 5 rows.\n",
    "\n",
    "import pandas as pd\n",
    "df=pd.read_csv(\"Bank_churn.csv\")\n",
    "print(\"First 5 rows of the DataFrame:\")\n",
    "print(df.head())"
   ]
  },
  {
   "cell_type": "code",
   "execution_count": 101,
   "id": "ec53fe13",
   "metadata": {},
   "outputs": [
    {
     "data": {
      "application/vnd.plotly.v1+json": {
       "config": {
        "plotlyServerURL": "https://plot.ly"
       },
       "data": [
        {
         "hovertemplate": "x=%{x}<br>y=%{y}<br>z=%{z}<extra></extra>",
         "legendgroup": "",
         "marker": {
          "color": "red",
          "size": 5,
          "symbol": "circle"
         },
         "mode": "markers",
         "name": "",
         "scene": "scene",
         "showlegend": false,
         "type": "scatter3d",
         "x": {
          "bdata": "AQIDBA==",
          "dtype": "i1"
         },
         "y": {
          "bdata": "BQYHCA==",
          "dtype": "i1"
         },
         "z": {
          "bdata": "CQoLDA==",
          "dtype": "i1"
         }
        }
       ],
       "layout": {
        "legend": {
         "tracegroupgap": 0
        },
        "scene": {
         "domain": {
          "x": [
           0,
           1
          ],
          "y": [
           0,
           1
          ]
         },
         "xaxis": {
          "title": {
           "text": "x"
          }
         },
         "yaxis": {
          "title": {
           "text": "y"
          }
         },
         "zaxis": {
          "title": {
           "text": "z"
          }
         }
        },
        "template": {
         "data": {
          "bar": [
           {
            "error_x": {
             "color": "#2a3f5f"
            },
            "error_y": {
             "color": "#2a3f5f"
            },
            "marker": {
             "line": {
              "color": "#E5ECF6",
              "width": 0.5
             },
             "pattern": {
              "fillmode": "overlay",
              "size": 10,
              "solidity": 0.2
             }
            },
            "type": "bar"
           }
          ],
          "barpolar": [
           {
            "marker": {
             "line": {
              "color": "#E5ECF6",
              "width": 0.5
             },
             "pattern": {
              "fillmode": "overlay",
              "size": 10,
              "solidity": 0.2
             }
            },
            "type": "barpolar"
           }
          ],
          "carpet": [
           {
            "aaxis": {
             "endlinecolor": "#2a3f5f",
             "gridcolor": "white",
             "linecolor": "white",
             "minorgridcolor": "white",
             "startlinecolor": "#2a3f5f"
            },
            "baxis": {
             "endlinecolor": "#2a3f5f",
             "gridcolor": "white",
             "linecolor": "white",
             "minorgridcolor": "white",
             "startlinecolor": "#2a3f5f"
            },
            "type": "carpet"
           }
          ],
          "choropleth": [
           {
            "colorbar": {
             "outlinewidth": 0,
             "ticks": ""
            },
            "type": "choropleth"
           }
          ],
          "contour": [
           {
            "colorbar": {
             "outlinewidth": 0,
             "ticks": ""
            },
            "colorscale": [
             [
              0,
              "#0d0887"
             ],
             [
              0.1111111111111111,
              "#46039f"
             ],
             [
              0.2222222222222222,
              "#7201a8"
             ],
             [
              0.3333333333333333,
              "#9c179e"
             ],
             [
              0.4444444444444444,
              "#bd3786"
             ],
             [
              0.5555555555555556,
              "#d8576b"
             ],
             [
              0.6666666666666666,
              "#ed7953"
             ],
             [
              0.7777777777777778,
              "#fb9f3a"
             ],
             [
              0.8888888888888888,
              "#fdca26"
             ],
             [
              1,
              "#f0f921"
             ]
            ],
            "type": "contour"
           }
          ],
          "contourcarpet": [
           {
            "colorbar": {
             "outlinewidth": 0,
             "ticks": ""
            },
            "type": "contourcarpet"
           }
          ],
          "heatmap": [
           {
            "colorbar": {
             "outlinewidth": 0,
             "ticks": ""
            },
            "colorscale": [
             [
              0,
              "#0d0887"
             ],
             [
              0.1111111111111111,
              "#46039f"
             ],
             [
              0.2222222222222222,
              "#7201a8"
             ],
             [
              0.3333333333333333,
              "#9c179e"
             ],
             [
              0.4444444444444444,
              "#bd3786"
             ],
             [
              0.5555555555555556,
              "#d8576b"
             ],
             [
              0.6666666666666666,
              "#ed7953"
             ],
             [
              0.7777777777777778,
              "#fb9f3a"
             ],
             [
              0.8888888888888888,
              "#fdca26"
             ],
             [
              1,
              "#f0f921"
             ]
            ],
            "type": "heatmap"
           }
          ],
          "histogram": [
           {
            "marker": {
             "pattern": {
              "fillmode": "overlay",
              "size": 10,
              "solidity": 0.2
             }
            },
            "type": "histogram"
           }
          ],
          "histogram2d": [
           {
            "colorbar": {
             "outlinewidth": 0,
             "ticks": ""
            },
            "colorscale": [
             [
              0,
              "#0d0887"
             ],
             [
              0.1111111111111111,
              "#46039f"
             ],
             [
              0.2222222222222222,
              "#7201a8"
             ],
             [
              0.3333333333333333,
              "#9c179e"
             ],
             [
              0.4444444444444444,
              "#bd3786"
             ],
             [
              0.5555555555555556,
              "#d8576b"
             ],
             [
              0.6666666666666666,
              "#ed7953"
             ],
             [
              0.7777777777777778,
              "#fb9f3a"
             ],
             [
              0.8888888888888888,
              "#fdca26"
             ],
             [
              1,
              "#f0f921"
             ]
            ],
            "type": "histogram2d"
           }
          ],
          "histogram2dcontour": [
           {
            "colorbar": {
             "outlinewidth": 0,
             "ticks": ""
            },
            "colorscale": [
             [
              0,
              "#0d0887"
             ],
             [
              0.1111111111111111,
              "#46039f"
             ],
             [
              0.2222222222222222,
              "#7201a8"
             ],
             [
              0.3333333333333333,
              "#9c179e"
             ],
             [
              0.4444444444444444,
              "#bd3786"
             ],
             [
              0.5555555555555556,
              "#d8576b"
             ],
             [
              0.6666666666666666,
              "#ed7953"
             ],
             [
              0.7777777777777778,
              "#fb9f3a"
             ],
             [
              0.8888888888888888,
              "#fdca26"
             ],
             [
              1,
              "#f0f921"
             ]
            ],
            "type": "histogram2dcontour"
           }
          ],
          "mesh3d": [
           {
            "colorbar": {
             "outlinewidth": 0,
             "ticks": ""
            },
            "type": "mesh3d"
           }
          ],
          "parcoords": [
           {
            "line": {
             "colorbar": {
              "outlinewidth": 0,
              "ticks": ""
             }
            },
            "type": "parcoords"
           }
          ],
          "pie": [
           {
            "automargin": true,
            "type": "pie"
           }
          ],
          "scatter": [
           {
            "fillpattern": {
             "fillmode": "overlay",
             "size": 10,
             "solidity": 0.2
            },
            "type": "scatter"
           }
          ],
          "scatter3d": [
           {
            "line": {
             "colorbar": {
              "outlinewidth": 0,
              "ticks": ""
             }
            },
            "marker": {
             "colorbar": {
              "outlinewidth": 0,
              "ticks": ""
             }
            },
            "type": "scatter3d"
           }
          ],
          "scattercarpet": [
           {
            "marker": {
             "colorbar": {
              "outlinewidth": 0,
              "ticks": ""
             }
            },
            "type": "scattercarpet"
           }
          ],
          "scattergeo": [
           {
            "marker": {
             "colorbar": {
              "outlinewidth": 0,
              "ticks": ""
             }
            },
            "type": "scattergeo"
           }
          ],
          "scattergl": [
           {
            "marker": {
             "colorbar": {
              "outlinewidth": 0,
              "ticks": ""
             }
            },
            "type": "scattergl"
           }
          ],
          "scattermap": [
           {
            "marker": {
             "colorbar": {
              "outlinewidth": 0,
              "ticks": ""
             }
            },
            "type": "scattermap"
           }
          ],
          "scattermapbox": [
           {
            "marker": {
             "colorbar": {
              "outlinewidth": 0,
              "ticks": ""
             }
            },
            "type": "scattermapbox"
           }
          ],
          "scatterpolar": [
           {
            "marker": {
             "colorbar": {
              "outlinewidth": 0,
              "ticks": ""
             }
            },
            "type": "scatterpolar"
           }
          ],
          "scatterpolargl": [
           {
            "marker": {
             "colorbar": {
              "outlinewidth": 0,
              "ticks": ""
             }
            },
            "type": "scatterpolargl"
           }
          ],
          "scatterternary": [
           {
            "marker": {
             "colorbar": {
              "outlinewidth": 0,
              "ticks": ""
             }
            },
            "type": "scatterternary"
           }
          ],
          "surface": [
           {
            "colorbar": {
             "outlinewidth": 0,
             "ticks": ""
            },
            "colorscale": [
             [
              0,
              "#0d0887"
             ],
             [
              0.1111111111111111,
              "#46039f"
             ],
             [
              0.2222222222222222,
              "#7201a8"
             ],
             [
              0.3333333333333333,
              "#9c179e"
             ],
             [
              0.4444444444444444,
              "#bd3786"
             ],
             [
              0.5555555555555556,
              "#d8576b"
             ],
             [
              0.6666666666666666,
              "#ed7953"
             ],
             [
              0.7777777777777778,
              "#fb9f3a"
             ],
             [
              0.8888888888888888,
              "#fdca26"
             ],
             [
              1,
              "#f0f921"
             ]
            ],
            "type": "surface"
           }
          ],
          "table": [
           {
            "cells": {
             "fill": {
              "color": "#EBF0F8"
             },
             "line": {
              "color": "white"
             }
            },
            "header": {
             "fill": {
              "color": "#C8D4E3"
             },
             "line": {
              "color": "white"
             }
            },
            "type": "table"
           }
          ]
         },
         "layout": {
          "annotationdefaults": {
           "arrowcolor": "#2a3f5f",
           "arrowhead": 0,
           "arrowwidth": 1
          },
          "autotypenumbers": "strict",
          "coloraxis": {
           "colorbar": {
            "outlinewidth": 0,
            "ticks": ""
           }
          },
          "colorscale": {
           "diverging": [
            [
             0,
             "#8e0152"
            ],
            [
             0.1,
             "#c51b7d"
            ],
            [
             0.2,
             "#de77ae"
            ],
            [
             0.3,
             "#f1b6da"
            ],
            [
             0.4,
             "#fde0ef"
            ],
            [
             0.5,
             "#f7f7f7"
            ],
            [
             0.6,
             "#e6f5d0"
            ],
            [
             0.7,
             "#b8e186"
            ],
            [
             0.8,
             "#7fbc41"
            ],
            [
             0.9,
             "#4d9221"
            ],
            [
             1,
             "#276419"
            ]
           ],
           "sequential": [
            [
             0,
             "#0d0887"
            ],
            [
             0.1111111111111111,
             "#46039f"
            ],
            [
             0.2222222222222222,
             "#7201a8"
            ],
            [
             0.3333333333333333,
             "#9c179e"
            ],
            [
             0.4444444444444444,
             "#bd3786"
            ],
            [
             0.5555555555555556,
             "#d8576b"
            ],
            [
             0.6666666666666666,
             "#ed7953"
            ],
            [
             0.7777777777777778,
             "#fb9f3a"
            ],
            [
             0.8888888888888888,
             "#fdca26"
            ],
            [
             1,
             "#f0f921"
            ]
           ],
           "sequentialminus": [
            [
             0,
             "#0d0887"
            ],
            [
             0.1111111111111111,
             "#46039f"
            ],
            [
             0.2222222222222222,
             "#7201a8"
            ],
            [
             0.3333333333333333,
             "#9c179e"
            ],
            [
             0.4444444444444444,
             "#bd3786"
            ],
            [
             0.5555555555555556,
             "#d8576b"
            ],
            [
             0.6666666666666666,
             "#ed7953"
            ],
            [
             0.7777777777777778,
             "#fb9f3a"
            ],
            [
             0.8888888888888888,
             "#fdca26"
            ],
            [
             1,
             "#f0f921"
            ]
           ]
          },
          "colorway": [
           "#636efa",
           "#EF553B",
           "#00cc96",
           "#ab63fa",
           "#FFA15A",
           "#19d3f3",
           "#FF6692",
           "#B6E880",
           "#FF97FF",
           "#FECB52"
          ],
          "font": {
           "color": "#2a3f5f"
          },
          "geo": {
           "bgcolor": "white",
           "lakecolor": "white",
           "landcolor": "#E5ECF6",
           "showlakes": true,
           "showland": true,
           "subunitcolor": "white"
          },
          "hoverlabel": {
           "align": "left"
          },
          "hovermode": "closest",
          "mapbox": {
           "style": "light"
          },
          "paper_bgcolor": "white",
          "plot_bgcolor": "#E5ECF6",
          "polar": {
           "angularaxis": {
            "gridcolor": "white",
            "linecolor": "white",
            "ticks": ""
           },
           "bgcolor": "#E5ECF6",
           "radialaxis": {
            "gridcolor": "white",
            "linecolor": "white",
            "ticks": ""
           }
          },
          "scene": {
           "xaxis": {
            "backgroundcolor": "#E5ECF6",
            "gridcolor": "white",
            "gridwidth": 2,
            "linecolor": "white",
            "showbackground": true,
            "ticks": "",
            "zerolinecolor": "white"
           },
           "yaxis": {
            "backgroundcolor": "#E5ECF6",
            "gridcolor": "white",
            "gridwidth": 2,
            "linecolor": "white",
            "showbackground": true,
            "ticks": "",
            "zerolinecolor": "white"
           },
           "zaxis": {
            "backgroundcolor": "#E5ECF6",
            "gridcolor": "white",
            "gridwidth": 2,
            "linecolor": "white",
            "showbackground": true,
            "ticks": "",
            "zerolinecolor": "white"
           }
          },
          "shapedefaults": {
           "line": {
            "color": "#2a3f5f"
           }
          },
          "ternary": {
           "aaxis": {
            "gridcolor": "white",
            "linecolor": "white",
            "ticks": ""
           },
           "baxis": {
            "gridcolor": "white",
            "linecolor": "white",
            "ticks": ""
           },
           "bgcolor": "#E5ECF6",
           "caxis": {
            "gridcolor": "white",
            "linecolor": "white",
            "ticks": ""
           }
          },
          "title": {
           "x": 0.05
          },
          "xaxis": {
           "automargin": true,
           "gridcolor": "white",
           "linecolor": "white",
           "ticks": "",
           "title": {
            "standoff": 15
           },
           "zerolinecolor": "white",
           "zerolinewidth": 2
          },
          "yaxis": {
           "automargin": true,
           "gridcolor": "white",
           "linecolor": "white",
           "ticks": "",
           "title": {
            "standoff": 15
           },
           "zerolinecolor": "white",
           "zerolinewidth": 2
          }
         }
        },
        "title": {
         "text": "3D Scatter Plot"
        }
       }
      }
     },
     "metadata": {},
     "output_type": "display_data"
    }
   ],
   "source": [
    "# 13. Create a 3D scatter plot using Plotly.\n",
    "\n",
    "import plotly.express as px\n",
    "import pandas as pd\n",
    "df=pd.DataFrame({\"x\":[1,2,3,4],\"y\":[5,6,7,8],\"z\":[9,10,11,12]})\n",
    "figure=px.scatter_3d(x=df[\"x\"],y=df[\"y\"],z=df[\"z\"],title=\"3D Scatter Plot\")\n",
    "figure.update_traces(marker=dict(size=5,color='red'))\n",
    "figure.show()"
   ]
  }
 ],
 "metadata": {
  "kernelspec": {
   "display_name": "Python 3",
   "language": "python",
   "name": "python3"
  },
  "language_info": {
   "codemirror_mode": {
    "name": "ipython",
    "version": 3
   },
   "file_extension": ".py",
   "mimetype": "text/x-python",
   "name": "python",
   "nbconvert_exporter": "python",
   "pygments_lexer": "ipython3",
   "version": "3.13.2"
  }
 },
 "nbformat": 4,
 "nbformat_minor": 5
}
